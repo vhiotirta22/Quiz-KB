{
  "nbformat": 4,
  "nbformat_minor": 0,
  "metadata": {
    "colab": {
      "provenance": [],
      "authorship_tag": "ABX9TyNAaKocO4H7Iur7VlNOs6xq",
      "include_colab_link": true
    },
    "kernelspec": {
      "name": "python3",
      "display_name": "Python 3"
    },
    "language_info": {
      "name": "python"
    }
  },
  "cells": [
    {
      "cell_type": "markdown",
      "metadata": {
        "id": "view-in-github",
        "colab_type": "text"
      },
      "source": [
        "<a href=\"https://colab.research.google.com/github/vhiotirta22/Quiz-KB/blob/main/Quiztask/Quiz_KB.ipynb\" target=\"_parent\"><img src=\"https://colab.research.google.com/assets/colab-badge.svg\" alt=\"Open In Colab\"/></a>"
      ]
    },
    {
      "cell_type": "code",
      "execution_count": 3,
      "metadata": {
        "colab": {
          "base_uri": "https://localhost:8080/"
        },
        "id": "s9gxPCbA1opu",
        "outputId": "6dfa86c6-2694-4bf5-c749-7d24283816a7"
      },
      "outputs": [
        {
          "output_type": "stream",
          "name": "stdout",
          "text": [
            "Elemen terbesar:  100\n",
            "Elemen terkecil:  12\n",
            "Transpose matriks A:\n",
            "[34, 72, 61]\n",
            "[100, 24, 20]\n",
            "[12, 55, 19]\n",
            "Hasil perkalian matriks A dan T:\n",
            "[11300, 5508, 4302]\n",
            "[5508, 8785, 5917]\n",
            "[4302, 5917, 4482]\n",
            "Hasil penjumlahan matriks T dan A:\n",
            "[68, 172, 73]\n",
            "[172, 48, 75]\n",
            "[73, 75, 38]\n"
          ]
        }
      ],
      "source": [
        "class Matrix:\n",
        "    def __init__(self, matrix):\n",
        "        self.matrix = matrix\n",
        "\n",
        "    def find_max_min(self):\n",
        "        flat_matrix = [element for row in self.matrix for element in row]\n",
        "        max_value = max(flat_matrix)\n",
        "        min_value = min(flat_matrix)\n",
        "        return max_value, min_value\n",
        "\n",
        "    def transpose(self):\n",
        "        transposed_matrix = [[self.matrix[j][i] for j in range(len(self.matrix))] for i in range(len(self.matrix[0]))]\n",
        "        return transposed_matrix\n",
        "\n",
        "    def multiply(self, other_matrix):\n",
        "        if len(self.matrix[0]) != len(other_matrix):\n",
        "            raise ValueError(\"The number of columns in the first matrix must be equal to the number of rows in the second matrix.\")\n",
        "        result_matrix = [[sum(a * b for a, b in zip(row, col)) for col in zip(*other_matrix)] for row in self.matrix]\n",
        "        return result_matrix\n",
        "\n",
        "    def add(self, other_matrix):\n",
        "        if len(self.matrix) != len(other_matrix) or len(self.matrix[0]) != len(other_matrix[0]):\n",
        "            raise ValueError(\"The matrices must have the same dimensions.\")\n",
        "        result_matrix = [[self.matrix[i][j] + other_matrix[i][j] for j in range(len(self.matrix[0]))] for i in range(len(self.matrix))]\n",
        "        return result_matrix\n",
        "\n",
        "\n",
        "def main():\n",
        "    # Membuat objek Matrix A\n",
        "    matrix_A = Matrix([\n",
        "        [34, 100, 12],\n",
        "        [72, 24, 55],\n",
        "        [61, 20, 19]\n",
        "    ])\n",
        "\n",
        "    # Menghitung elemen terbesar dan terkecil\n",
        "    max_value, min_value = matrix_A.find_max_min()\n",
        "    print(\"Elemen terbesar: \", max_value)\n",
        "    print(\"Elemen terkecil: \", min_value)\n",
        "\n",
        "    # Melakukan transpose matriks A\n",
        "    transposed_A = matrix_A.transpose()\n",
        "    print(\"Transpose matriks A:\")\n",
        "    for row in transposed_A:\n",
        "        print(row)\n",
        "\n",
        "    # Membuat objek Matrix T dari transpose matriks A\n",
        "    matrix_T = Matrix(transposed_A)\n",
        "\n",
        "    # Mengalikan matriks A dan T\n",
        "    product_matrix = matrix_A.multiply(matrix_T.matrix)\n",
        "    print(\"Hasil perkalian matriks A dan T:\")\n",
        "    for row in product_matrix:\n",
        "        print(row)\n",
        "\n",
        "    # Menjumlahkan matriks T dan A\n",
        "    sum_matrix = matrix_T.add(matrix_A.matrix)\n",
        "    print(\"Hasil penjumlahan matriks T dan A:\")\n",
        "    for row in sum_matrix:\n",
        "        print(row)\n",
        "\n",
        "\n",
        "if __name__ == \"__main__\":\n",
        "    main()"
      ]
    }
  ]
}